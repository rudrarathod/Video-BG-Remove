{
  "cells": [
    {
      "cell_type": "code",
      "execution_count": 2,
      "metadata": {
        "colab": {
          "base_uri": "https://localhost:8080/"
        },
        "id": "4DQNjeTpVhr7",
        "outputId": "96215384-8a75-4934-fe3f-957d0341ec3d"
      },
      "outputs": [
        {
          "name": "stderr",
          "output_type": "stream",
          "text": [
            "fatal: destination path 'rembg' already exists and is not an empty directory.\n"
          ]
        }
      ],
      "source": [
        "!git clone https://github.com/danielgatis/rembg.git"
      ]
    },
    {
      "cell_type": "code",
      "execution_count": 4,
      "metadata": {
        "id": "Re9FzE0miRVP"
      },
      "outputs": [],
      "source": [
        "from pathlib import Path\n",
        "from rembg import remove, new_session\n",
        "\n",
        "session = new_session()\n",
        "\n",
        "for file in Path('path/to/folder').glob('*.png'):\n",
        "    input_path = str(file)\n",
        "    output_path = str(file.parent / (file.stem + \".out.png\"))\n",
        "\n",
        "    with open(input_path, 'rb') as i:\n",
        "        with open(output_path, 'wb') as o:\n",
        "            input = i.read()\n",
        "            output = remove(input, session=session)\n",
        "            o.write(output)\n",
        "\n",
        "# display_image()"
      ]
    },
    {
      "cell_type": "code",
      "execution_count": 67,
      "metadata": {
        "id": "MYtsZml4bJHX"
      },
      "outputs": [],
      "source": [
        "import cv2\n",
        "import os\n",
        "\n",
        "def video_to_frames(video_path, output_folder=\"frames\", fps=30):\n",
        "    \"\"\"\n",
        "    Converts a video into frames and saves them to the specified folder.\n",
        "\n",
        "    Parameters:\n",
        "        video_path (str): Path to the input video file.\n",
        "        output_folder (str): Directory to save the extracted frames. Default is 'frames'.\n",
        "        fps (int): Frames per second to extract. Default is 30.\n",
        "    \"\"\"\n",
        "    # Ensure the output directory exists\n",
        "    os.makedirs(output_folder, exist_ok=True)\n",
        "\n",
        "    # Check if the video file exists\n",
        "    if not os.path.exists(video_path):\n",
        "        print(f\"Error: Video file '{video_path}' does not exist.\")\n",
        "        return\n",
        "\n",
        "    # Open the video file\n",
        "    video_capture = cv2.VideoCapture(video_path)\n",
        "    if not video_capture.isOpened():\n",
        "        print(f\"Error: Cannot open video file {video_path}\")\n",
        "        return\n",
        "\n",
        "    original_fps = video_capture.get(cv2.CAP_PROP_FPS)\n",
        "    frame_interval = int(original_fps / fps) if fps <= original_fps else 1\n",
        "\n",
        "    frame_count = 0\n",
        "    saved_count = 1\n",
        "\n",
        "    while True:\n",
        "        success, frame = video_capture.read()\n",
        "        if not success:\n",
        "            break\n",
        "\n",
        "        if frame_count % frame_interval == 0:\n",
        "            frame_filename = os.path.join(output_folder, f\"frame_{saved_count}.png\")\n",
        "            cv2.imwrite(frame_filename, frame)\n",
        "            saved_count += 1\n",
        "\n",
        "        frame_count += 1\n",
        "\n",
        "    total_img = saved_count - 1\n",
        "    video_capture.release()\n",
        "    print(f\"Extracted {total_img} frames and saved to '{output_folder}'\")\n",
        "\n",
        "# Example usage\n",
        "# video_to_frames(\"input_video.mp4\", fps=10)"
      ]
    },
    {
      "cell_type": "code",
      "execution_count": 68,
      "metadata": {
        "colab": {
          "base_uri": "https://localhost:8080/"
        },
        "id": "fFwnZX8hbbwU",
        "outputId": "30a3e472-44ca-4696-bf9c-28a09e8aeb18"
      },
      "outputs": [
        {
          "name": "stdout",
          "output_type": "stream",
          "text": [
            "Extracted 102 frames and saved to 'frames'\n"
          ]
        }
      ],
      "source": [
        "video_to_frames(\"input_video.mp4\", fps=30)"
      ]
    },
    {
      "cell_type": "code",
      "execution_count": 51,
      "metadata": {},
      "outputs": [],
      "source": [
        "import cv2\n",
        "import os\n",
        "\n",
        "def video_to_frames_with_text_and_fps(video_path, output_folder=\"frames\", fps=30, text=None, font_color=(255, 0, 0), text_position=(50, 50), font_scale=1, thickness=2, padding=(0, 0)):\n",
        "    \"\"\"\n",
        "    Converts a video into frames, optionally adds text to each frame, and saves them to separate folders:\n",
        "    one for frames with text (outside the 'frames' folder) and one for frames without text (inside the 'frames' folder).\n",
        "\n",
        "    Parameters:\n",
        "        video_path (str): Path to the input video file.\n",
        "        output_folder (str): Directory to save the extracted frames. Default is 'frames'.\n",
        "        fps (int): Frames per second to extract. Default is 30.\n",
        "        text (str): Optional text to overlay on each frame. If None, no text is added.\n",
        "        font_color (tuple): Font color in BGR format. Default is (255, 0, 0) (blue).\n",
        "        text_position (tuple): Position of the text (x, y). Default is (50, 50).\n",
        "        font_scale (float): Font size. Default is 1.\n",
        "        thickness (int): Thickness of the text. Default is 2.\n",
        "        padding (tuple): Padding around the text as (x_padding, y_padding). Default is (0, 0).\n",
        "    \"\"\"\n",
        "    # Ensure the output directories exist\n",
        "    frames_with_text_folder = \"frames_with_text\"\n",
        "    frames_without_text_folder = os.path.join(output_folder)\n",
        "\n",
        "    os.makedirs(frames_with_text_folder, exist_ok=True)\n",
        "    os.makedirs(frames_without_text_folder, exist_ok=True)\n",
        "\n",
        "    # Check if the video file exists\n",
        "    if not os.path.exists(video_path):\n",
        "        print(f\"Error: Video file '{video_path}' does not exist.\")\n",
        "        return\n",
        "\n",
        "    # Open the video file\n",
        "    video_capture = cv2.VideoCapture(video_path)\n",
        "    if not video_capture.isOpened():\n",
        "        print(f\"Error: Cannot open video file {video_path}\")\n",
        "        return\n",
        "\n",
        "    original_fps = video_capture.get(cv2.CAP_PROP_FPS)\n",
        "    frame_interval = int(original_fps / fps) if fps <= original_fps else 1\n",
        "\n",
        "    frame_count = 0\n",
        "    saved_with_text_count = 1\n",
        "    saved_without_text_count = 1\n",
        "\n",
        "    while True:\n",
        "        success, frame = video_capture.read()\n",
        "        if not success:\n",
        "            break\n",
        "\n",
        "        if frame_count % frame_interval == 0:\n",
        "            # Save the frame without text in the 'frames' folder\n",
        "            frame_filename_without_text = os.path.join(frames_without_text_folder, f\"frame_{saved_without_text_count}.png\")\n",
        "            cv2.imwrite(frame_filename_without_text, frame)\n",
        "            saved_without_text_count += 1\n",
        "\n",
        "            # If text is provided, add it to the frame and save to the 'frames_with_text' folder\n",
        "            if text:\n",
        "                font = cv2.FONT_HERSHEY_SIMPLEX\n",
        "\n",
        "                # Add the text to the frame with padding\n",
        "                text_size = cv2.getTextSize(text, font, font_scale, thickness)[0]\n",
        "                x, y = text_position\n",
        "                x += padding[0]\n",
        "                y += padding[1]\n",
        "                bottom_left_corner = (x, y + text_size[1])\n",
        "                cv2.putText(frame, text, bottom_left_corner, font, font_scale, font_color, thickness)\n",
        "\n",
        "                # Save the frame with text in the 'frames_with_text' folder\n",
        "                frame_filename_with_text = os.path.join(frames_with_text_folder, f\"frame_{saved_with_text_count}.png\")\n",
        "                cv2.imwrite(frame_filename_with_text, frame)\n",
        "                saved_with_text_count += 1\n",
        "\n",
        "        frame_count += 1\n",
        "\n",
        "    total_with_text = saved_with_text_count - 1\n",
        "    total_without_text = saved_without_text_count - 1\n",
        "    video_capture.release()\n",
        "\n",
        "    print(f\"Extracted {total_without_text} frames without text and saved to '{frames_without_text_folder}'\")\n",
        "    print(f\"Extracted {total_with_text} frames with text and saved to '{frames_with_text_folder}'\")\n",
        "\n",
        "# Example usage\n",
        "# video_to_frames_with_text_and_fps(\"input_video.mp4\", fps=10, text=\"This is a test\", font_color=(0, 255, 0), text_position=(100, 100), font_scale=2, thickness=3, padding=(10, 20))\n"
      ]
    },
    {
      "cell_type": "code",
      "execution_count": 75,
      "metadata": {},
      "outputs": [
        {
          "name": "stdout",
          "output_type": "stream",
          "text": [
            "Extracted 102 frames without text and saved to 'frames'\n",
            "Extracted 102 frames with text and saved to 'frames_with_text'\n"
          ]
        }
      ],
      "source": [
        "video_to_frames_with_text_and_fps(\"input_video.mp4\", fps=30, text=\"hello\", font_color=(0, 255, 0), text_position=(0, 0), font_scale=25, thickness=30, padding=(0, 0))\n"
      ]
    },
    {
      "cell_type": "code",
      "execution_count": 57,
      "metadata": {
        "id": "0cOuLToiisIw"
      },
      "outputs": [],
      "source": [
        "from pathlib import Path\n",
        "from rembg import remove, new_session\n",
        "import os\n",
        "\n",
        "def remove_background_from_frames(input_folder, output_folder):\n",
        "    \"\"\"\n",
        "    Removes the background from all PNG images in the specified input folder\n",
        "    and saves the output images to the specified output folder with 'frame_bgr' naming.\n",
        "\n",
        "    Parameters:\n",
        "        input_folder (str): Path to the folder containing input PNG images (frames).\n",
        "        output_folder (str): Path to the folder where output images will be saved (frames_bgr).\n",
        "    \"\"\"\n",
        "    # Create output folder if it doesn't exist\n",
        "    os.makedirs(output_folder, exist_ok=True)\n",
        "\n",
        "    # Create a new session for background removal\n",
        "    session = new_session()\n",
        "\n",
        "    # Iterate over all PNG files in the input folder\n",
        "    for file in sorted(Path(input_folder).glob('frame_*.png'), key=lambda x: int(x.stem.split('_')[1])):\n",
        "        input_path = str(file)\n",
        "        output_path = str(Path(output_folder) / (file.stem + \".png\"))\n",
        "\n",
        "        # Read input image, remove background, and save the result\n",
        "        with open(input_path, 'rb') as i:\n",
        "            with open(output_path, 'wb') as o:\n",
        "                input_data = i.read()\n",
        "                output_data = remove(input_data, session=session)\n",
        "                o.write(output_data)\n",
        "\n",
        "    print(f\"Background removal completed for all frames in '{input_folder}' and saved to '{output_folder}'.\")\n",
        "\n",
        "# Example usage\n",
        "# remove_background_from_frames(\"frames\", \"frames_bgr\")\n"
      ]
    },
    {
      "cell_type": "code",
      "execution_count": 76,
      "metadata": {
        "colab": {
          "base_uri": "https://localhost:8080/"
        },
        "id": "2PkkdqJej7CH",
        "outputId": "64385b76-ec58-46a2-b785-a614eb611aef"
      },
      "outputs": [
        {
          "name": "stdout",
          "output_type": "stream",
          "text": [
            "Background removal completed for all frames in 'frames' and saved to 'frames_bgr'.\n"
          ]
        }
      ],
      "source": [
        "remove_background_from_frames(\"frames\", \"frames_bgr\")"
      ]
    },
    {
      "cell_type": "code",
      "execution_count": 93,
      "metadata": {},
      "outputs": [],
      "source": [
        "import cv2\n",
        "import os\n",
        "\n",
        "def merge_images_from_folders(folder1, folder2, output_folder=\"merged_frames\", opacity=1):\n",
        "    \"\"\"\n",
        "    Merges images from two folders with the same filenames, overlays images from folder2 on top of images from folder1,\n",
        "    and saves them to the output folder. Allows setting the opacity of the overlay image.\n",
        "\n",
        "    Parameters:\n",
        "        folder1 (str): Path to the first folder (base images).\n",
        "        folder2 (str): Path to the second folder (overlay images with transparency).\n",
        "        output_folder (str): Directory to save the merged images. Default is 'merged_frames'.\n",
        "        opacity (float): Opacity of the overlay image (0.0 to 1.0). Default is 0.5.\n",
        "    \"\"\"\n",
        "    # Ensure the output folder exists\n",
        "    os.makedirs(output_folder, exist_ok=True)\n",
        "\n",
        "    # Get the list of images in both folders\n",
        "    images_folder1 = sorted(os.listdir(folder1))\n",
        "    images_folder2 = sorted(os.listdir(folder2))\n",
        "\n",
        "    if len(images_folder1) != len(images_folder2):\n",
        "        print(\"Error: The number of images in both folders is not the same.\")\n",
        "        return\n",
        "\n",
        "    # Iterate through images in both folders\n",
        "    for img1_name, img2_name in zip(images_folder1, images_folder2):\n",
        "        # Check if the filenames are the same\n",
        "        if img1_name != img2_name:\n",
        "            print(f\"Skipping files with different names: {img1_name} and {img2_name}\")\n",
        "            continue\n",
        "        \n",
        "        # Read the images (with transparency for img2)\n",
        "        img1 = cv2.imread(os.path.join(folder1, img1_name), cv2.IMREAD_UNCHANGED)\n",
        "        img2 = cv2.imread(os.path.join(folder2, img2_name), cv2.IMREAD_UNCHANGED)\n",
        "\n",
        "        if img1 is None or img2 is None:\n",
        "            print(f\"Error: One of the images could not be read: {img1_name} or {img2_name}\")\n",
        "            continue\n",
        "\n",
        "        # Ensure both images have 4 channels (RGBA) for transparency handling\n",
        "        if img1.shape[2] != 4:\n",
        "            img1 = cv2.cvtColor(img1, cv2.COLOR_BGR2BGRA)\n",
        "        if img2.shape[2] != 4:\n",
        "            img2 = cv2.cvtColor(img2, cv2.COLOR_BGR2BGRA)\n",
        "\n",
        "        # Resize img2 to match img1's size if they are not the same size\n",
        "        if img1.shape[:2] != img2.shape[:2]:\n",
        "            img2 = cv2.resize(img2, (img1.shape[1], img1.shape[0]))\n",
        "\n",
        "        # Separate the alpha channel for blending\n",
        "        alpha = img2[:, :, 3] / 255.0 * opacity\n",
        "        alpha_inv = 1.0 - alpha\n",
        "\n",
        "        # Blend the two images\n",
        "        for c in range(3):  # Blend RGB channels\n",
        "            img1[:, :, c] = (alpha_inv * img1[:, :, c] + alpha * img2[:, :, c]).astype('uint8')\n",
        "\n",
        "        # Save the merged image to the output folder\n",
        "        output_filename = os.path.join(output_folder, img1_name)\n",
        "        cv2.imwrite(output_filename, img1)\n",
        "\n",
        "    print(f\"Images merged and saved to '{output_folder}'.\")\n",
        "\n",
        "# Example usage\n",
        "# merge_images_from_folders(\"frames/with_text\", \"frames/without_text\", \"merged_frames\", opacity=0.7)"
      ]
    },
    {
      "cell_type": "code",
      "execution_count": 94,
      "metadata": {},
      "outputs": [
        {
          "name": "stdout",
          "output_type": "stream",
          "text": [
            "Images merged and saved to 'merged_frames'.\n"
          ]
        }
      ],
      "source": [
        "merge_images_from_folders(\"frames_with_text\", \"frames_bgr\", \"merged_frames\",opacity= 1)"
      ]
    },
    {
      "cell_type": "code",
      "execution_count": 36,
      "metadata": {
        "id": "Fjdonrzidf8l"
      },
      "outputs": [],
      "source": [
        "import cv2\n",
        "import os\n",
        "\n",
        "def frames_to_video(input_folder, output_video_path, fps=30):\n",
        "    \"\"\"\n",
        "    Creates a video from a sequence of images in a folder.\n",
        "\n",
        "    Parameters:\n",
        "        input_folder (str): Directory containing the input frames (images).\n",
        "        output_video_path (str): Path where the output video will be saved.\n",
        "        fps (int): Frames per second for the output video. Default is 30.\n",
        "    \"\"\"\n",
        "    # Get the list of all image files in the folder, sorted by filename\n",
        "    images = [img for img in os.listdir(input_folder) if img.endswith(\".png\")]\n",
        "    images.sort(key=lambda x: int(x.split('_')[1].split('.')[0]))  # Sorting by frame number (assuming names like frame_1.png)\n",
        "\n",
        "    # Check if there are any images\n",
        "    if not images:\n",
        "        print(f\"Error: No images found in '{input_folder}'.\")\n",
        "        return\n",
        "\n",
        "    # Read the first image to get the dimensions\n",
        "    first_image = cv2.imread(os.path.join(input_folder, images[0]))\n",
        "    height, width, _ = first_image.shape\n",
        "\n",
        "    # Create a VideoWriter object\n",
        "    fourcc = cv2.VideoWriter_fourcc(*'mp4v')  # Using the mp4 codec\n",
        "    video_writer = cv2.VideoWriter(output_video_path, fourcc, fps, (width, height))\n",
        "\n",
        "    # Loop through all images and add them to the video\n",
        "    for image_name in images:\n",
        "        image_path = os.path.join(input_folder, image_name)\n",
        "        frame = cv2.imread(image_path)\n",
        "        video_writer.write(frame)\n",
        "\n",
        "    # Release the VideoWriter object\n",
        "    video_writer.release()\n",
        "\n",
        "    print(f\"Video saved to '{output_video_path}'\")\n",
        "\n",
        "# Example usage\n",
        "# frames_to_video(\"frames\", \"output_video.mp4\", fps=10)\n"
      ]
    },
    {
      "cell_type": "code",
      "execution_count": 95,
      "metadata": {
        "colab": {
          "base_uri": "https://localhost:8080/"
        },
        "id": "sRleTYI6fYSg",
        "outputId": "2efcb953-8948-470d-aa63-169900330285"
      },
      "outputs": [
        {
          "name": "stdout",
          "output_type": "stream",
          "text": [
            "Video saved to 'output_video.mp4'\n"
          ]
        }
      ],
      "source": [
        "frames_to_video(\"merged_frames\", \"output_video.mp4\", fps=30)"
      ]
    },
    {
      "cell_type": "code",
      "execution_count": 96,
      "metadata": {},
      "outputs": [],
      "source": [
        "import os\n",
        "import shutil\n",
        "\n",
        "# Remove directories and their contents\n",
        "shutil.rmtree('merged_frames', ignore_errors=True)\n",
        "shutil.rmtree('frames', ignore_errors=True)\n",
        "shutil.rmtree('frames_bgr', ignore_errors=True)\n",
        "shutil.rmtree('frames_with_text', ignore_errors=True)\n",
        "\n",
        "# Create directories if they don't exist\n",
        "os.makedirs('merged_frames', exist_ok=True)\n",
        "os.makedirs('frames', exist_ok=True)\n",
        "os.makedirs('frames_bgr', exist_ok=True)\n",
        "os.makedirs('frames_with_text', exist_ok=True)"
      ]
    }
  ],
  "metadata": {
    "colab": {
      "provenance": []
    },
    "kernelspec": {
      "display_name": ".venv",
      "language": "python",
      "name": "python3"
    },
    "language_info": {
      "codemirror_mode": {
        "name": "ipython",
        "version": 3
      },
      "file_extension": ".py",
      "mimetype": "text/x-python",
      "name": "python",
      "nbconvert_exporter": "python",
      "pygments_lexer": "ipython3",
      "version": "3.12.8"
    }
  },
  "nbformat": 4,
  "nbformat_minor": 0
}
